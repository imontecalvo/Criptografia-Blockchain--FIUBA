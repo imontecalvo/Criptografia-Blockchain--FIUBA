{
 "cells": [
  {
   "cell_type": "code",
   "execution_count": null,
   "id": "0c18c09a-59ce-454b-9a42-88b358b89138",
   "metadata": {
    "tags": []
   },
   "outputs": [],
   "source": [
    "pow(5,-5+10,11)"
   ]
  },
  {
   "cell_type": "code",
   "execution_count": 23,
   "id": "50254f5d-4f5d-4249-af14-b8a2f578172f",
   "metadata": {
    "tags": []
   },
   "outputs": [],
   "source": [
    "class FinitFieldElement():\n",
    "    def __init__(self, number:int, p:int):\n",
    "        FinitFieldElement.check_errors(number, p)\n",
    "        self.value = number%p\n",
    "        self.p = p\n",
    "        \n",
    "    def __add__(self, y):\n",
    "        self.check_field(y)\n",
    "        return FinitFieldElement((self.value + y.value)%self.p, self.p)\n",
    "    \n",
    "    def __sub__(self, y):\n",
    "        self.check_field(y)\n",
    "        return FinitFieldElement((self.value - y.value)%self.p, self.p)\n",
    "    \n",
    "    def __mul__(self, y):\n",
    "        self.check_field(y)\n",
    "        return FinitFieldElement((self.value * y.value)%self.p, self.p)\n",
    "\n",
    "    def __truediv__(self, y, inv_mul_method='euclidean'):\n",
    "        if inv_mul_method != 'euclidean' and inv_mul_method != 'fermat':\n",
    "            raise ValueError(\"The method to compute the multiplicative inverse must be 'euclidean' or 'fermat'\")\n",
    "        self.check_field(y)\n",
    "            \n",
    "        inv_mul_y = y.extended_euclidean_algorithm() if inv_mul_method =='euclidean' else y.fermats_little_theorem()\n",
    "        return FinitFieldElement((self.value * inv_mul_y)%self.p,self.p)\n",
    "    \n",
    "    def __pow__(self, exponent):\n",
    "        exp_aux = exponent\n",
    "        while exp_aux < 0:\n",
    "            exp_aux += self.p - 1\n",
    "        return FinitFieldElement(pow(self.value,exp_aux,self.p), self.p)\n",
    "    \n",
    "    def __eq__(self, y):\n",
    "        if y == None: return False\n",
    "        return (self.value == y.value) and (self.p == y.p)\n",
    "    \n",
    "    def check_errors(number,p):\n",
    "        if not isinstance(number, int):\n",
    "            raise TypeError(\"The number must be integer\")\n",
    "        # if not(0 <= number < p):\n",
    "        #     raise ValueError(\"The number must be greater than or equal to 0 and lower than the prime number P\")\n",
    "            \n",
    "    def check_field(self, y):\n",
    "        if y.p != self.p:\n",
    "            raise TypeError(\"The numbers must belong to the same finit field\")\n",
    "            \n",
    "    def extended_euclidean_algorithm(self):\n",
    "        r0, r1 = self.value, self.p\n",
    "        s0, s1 = 1, 0\n",
    "        t0, t1 = 0, 1\n",
    "    \n",
    "        while r1 != 0:\n",
    "            q = r0 // r1\n",
    "            r0, r1 = r1, r0 % r1\n",
    "            s0, s1 = s1, s0 - q * s1\n",
    "            t0, t1 = t1, t0 - q * t1\n",
    "        if r0 != 1:\n",
    "            raise ValueError(f\"The value {self.value} has not inverse of multiplication in {self.p}-finit field\")\n",
    "    \n",
    "        return s0 % self.p\n",
    "    \n",
    "    def fermats_little_theorem(self):\n",
    "        return (self.value ** (self.p - 2))%self.p"
   ]
  },
  {
   "cell_type": "code",
   "execution_count": 14,
   "id": "cbce2908-5885-4ef2-923c-418cfc335a54",
   "metadata": {
    "tags": []
   },
   "outputs": [
    {
     "data": {
      "text/plain": [
       "<__main__.FinitFieldElement at 0x7feb7404dfa0>"
      ]
     },
     "execution_count": 14,
     "metadata": {},
     "output_type": "execute_result"
    }
   ],
   "source": [
    "x = FinitFieldElement(5,11)\n",
    "y = FinitFieldElement(8,11)\n",
    "z = FinitFieldElement(5,11)\n",
    "\n",
    "\n",
    "x*FinitFieldElement(2,11)"
   ]
  },
  {
   "cell_type": "code",
   "execution_count": 24,
   "id": "1055ba25-3ac4-4940-96e9-8304846041a7",
   "metadata": {
    "tags": []
   },
   "outputs": [],
   "source": [
    "class EllipticCurveElement():\n",
    "    def __init__(self,x,y,a,b):\n",
    "        if not(x==None and y==None):\n",
    "            EllipticCurveElement.check_point(x,y,a,b)\n",
    "        self.x = x\n",
    "        self.y = y\n",
    "        self.a = a\n",
    "        self.b = b\n",
    "        \n",
    "    def __add__(self, other_point):\n",
    "        self.check_same_curve(other_point)\n",
    "        \n",
    "        if self.is_inf(): return other_point\n",
    "        elif other_point.is_inf(): return self\n",
    "        elif (self.x==other_point.x and self.y!=other_point.y) or (self == other_point and self.y.value == 0): \n",
    "            return EllipticCurveElement(None,None,self.a,self.b)\n",
    "    \n",
    "        s = (other_point.y - self.y)/(other_point.x - self.x) if self!=other_point \\\n",
    "        else (FinitFieldElement(3, self.x.p)*(self.x**2)+self.a)/(FinitFieldElement(2, self.x.p)*self.y)\n",
    "        x = s**2 - self.x - other_point.x\n",
    "        y = s * (self.x - x) - self.y\n",
    "        return EllipticCurveElement(x,y,self.a,self.b)\n",
    "    \n",
    "    def __rmul__(self, coefficient):\n",
    "        coef = coefficient\n",
    "        current = self\n",
    "        result = self.__class__(None, None, self.a, self.b)\n",
    "        while coef:\n",
    "            if coef & 1:\n",
    "                result += current\n",
    "            current += current\n",
    "            coef >>= 1\n",
    "        return result\n",
    "        \n",
    "    def __eq__(self, other_point):\n",
    "        return (self.x == other_point.x) and (self.y == other_point.y) \n",
    "    \n",
    "    \n",
    "    def __ne__(self, other_point):\n",
    "        return not (self==other_point)\n",
    "        \n",
    "    def is_inf(self):\n",
    "        return (self.x==None) and (self.y==None)\n",
    "            \n",
    "    def check_same_curve(self, other_point):\n",
    "        if self.a != other_point.a or self.b != other_point.b:\n",
    "            raise ValueError(f\"(The given points are not in the same elliptic curve\")\n",
    "            \n",
    "    def check_point(x,y,a,b):\n",
    "        if (x==None) ^ (y==None):\n",
    "            raise ValueError(f\"Invalid point\")\n",
    "        # if abs((y**2) - (x**3 + a * x + b)) > 0.000001:\n",
    "        #     raise ValueError(f\"The point ({x},{y}) is not on the elliptic curve\")            \n",
    "        if y**2 != x**3 + a * x + b:\n",
    "            raise ValueError(f\"The point ({x},{y}) is not on the elliptic curve\")\n",
    "        "
   ]
  },
  {
   "cell_type": "code",
   "execution_count": null,
   "id": "fedd6c76-e01b-48ff-a3c5-f25b826ca1d9",
   "metadata": {
    "tags": []
   },
   "outputs": [],
   "source": [
    "p1 = EllipticCurveElement(0,2.64575131106459059,0,7)\n",
    "p2 = EllipticCurveElement(0,-2.64575131106459059,0,7)\n",
    "\n",
    "print((p1+p2).y)"
   ]
  },
  {
   "cell_type": "code",
   "execution_count": 21,
   "id": "3cc145b6-e9f4-43ab-8d19-db270dddb06a",
   "metadata": {
    "tags": []
   },
   "outputs": [
    {
     "name": "stdout",
     "output_type": "stream",
     "text": [
      "llega\n",
      "1*(47,71)=(47,71)\n",
      "2*(47,71)=(36,111)\n",
      "3*(47,71)=(15,137)\n",
      "4*(47,71)=(194,51)\n",
      "5*(47,71)=(126,96)\n",
      "6*(47,71)=(139,137)\n",
      "7*(47,71)=(92,47)\n",
      "8*(47,71)=(116,55)\n",
      "9*(47,71)=(69,86)\n",
      "10*(47,71)=(154,150)\n",
      "11*(47,71)=(154,73)\n",
      "12*(47,71)=(69,137)\n",
      "13*(47,71)=(116,168)\n",
      "14*(47,71)=(92,176)\n",
      "15*(47,71)=(139,86)\n",
      "16*(47,71)=(126,127)\n",
      "17*(47,71)=(194,172)\n",
      "18*(47,71)=(15,86)\n",
      "19*(47,71)=(36,112)\n",
      "20*(47,71)=(47,152)\n"
     ]
    }
   ],
   "source": [
    "prime = 223\n",
    "a = FinitFieldElement(0, prime)\n",
    "b = FinitFieldElement(7, prime)\n",
    "x = FinitFieldElement(47, prime)\n",
    "y = FinitFieldElement(71, prime)\n",
    "p = EllipticCurveElement(x, y, a, b)\n",
    "print(\"llega\")\n",
    "for s in range(1,21):\n",
    "    result = s*p\n",
    "    print('{}*(47,71)=({},{})'.format(s,result.x.value,result.y.value))\n"
   ]
  },
  {
   "cell_type": "code",
   "execution_count": 37,
   "id": "6cd14149-f823-4e53-b7c6-e3d177c523bf",
   "metadata": {
    "tags": []
   },
   "outputs": [
    {
     "name": "stdout",
     "output_type": "stream",
     "text": [
      "1039\n"
     ]
    }
   ],
   "source": [
    "def is_in_curve(x,y,a,b):\n",
    "    return y**2 == x**3 + a * x + b\n",
    "\n",
    "p = 1021\n",
    "a = FinitFieldElement(-3,p)\n",
    "b = FinitFieldElement(-3,p)\n",
    "n_points = 0\n",
    "for i in range(p):\n",
    "    for j in range(p):\n",
    "        x = FinitFieldElement(i,p)\n",
    "        y = FinitFieldElement(j,p)\n",
    "        if is_in_curve(x,y,a,b):\n",
    "            n_points +=1\n",
    "\n",
    "n_points+=1 #Infinity\n",
    "print(n_points)"
   ]
  },
  {
   "cell_type": "code",
   "execution_count": null,
   "id": "6932c20b-6d7f-4e3a-8215-74b08e74a27e",
   "metadata": {},
   "outputs": [],
   "source": [
    "# Usando P=(379,1011), obtener kP, siendo k=655.\n",
    "\n",
    "x=FinitFieldElement(379,p)\n",
    "y=FinitFieldElement(1011,p)\n",
    "point=Eli\n"
   ]
  }
 ],
 "metadata": {
  "kernelspec": {
   "display_name": "Python 3 (ipykernel)",
   "language": "python",
   "name": "python3"
  },
  "language_info": {
   "codemirror_mode": {
    "name": "ipython",
    "version": 3
   },
   "file_extension": ".py",
   "mimetype": "text/x-python",
   "name": "python",
   "nbconvert_exporter": "python",
   "pygments_lexer": "ipython3",
   "version": "3.8.10"
  }
 },
 "nbformat": 4,
 "nbformat_minor": 5
}
