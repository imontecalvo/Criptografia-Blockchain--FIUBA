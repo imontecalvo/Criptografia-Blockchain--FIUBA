{
 "cells": [
  {
   "cell_type": "code",
   "execution_count": 4,
   "id": "50254f5d-4f5d-4249-af14-b8a2f578172f",
   "metadata": {
    "tags": []
   },
   "outputs": [],
   "source": [
    "class FinitFieldElement():\n",
    "    def __init__(self, number:int, p:int):\n",
    "        FinitFieldElement.check_errors(number, p)\n",
    "        self.value = number%p\n",
    "        self.p = p\n",
    "        \n",
    "    def __add__(self, y):\n",
    "        self.check_field(y)\n",
    "        return FinitFieldElement((self.value + y.value)%self.p, self.p)\n",
    "    \n",
    "    def __sub__(self, y):\n",
    "        self.check_field(y)\n",
    "        return FinitFieldElement((self.value - y.value)%self.p, self.p)\n",
    "    \n",
    "    def __mul__(self, y):\n",
    "        self.check_field(y)\n",
    "        return FinitFieldElement((self.value * y.value)%self.p, self.p)\n",
    "\n",
    "    def __truediv__(self, y, inv_mul_method='euclidean'):\n",
    "        if inv_mul_method != 'euclidean' and inv_mul_method != 'fermat':\n",
    "            raise ValueError(\"The method to compute the multiplicative inverse must be 'euclidean' or 'fermat'\")\n",
    "        self.check_field(y)\n",
    "            \n",
    "        inv_mul_y = y.extended_euclidean_algorithm() if inv_mul_method =='euclidean' else y.fermats_little_theorem()\n",
    "        return FinitFieldElement((self.value * inv_mul_y)%self.p,self.p)\n",
    "    \n",
    "    def __pow__(self, exponent):\n",
    "        exp_aux = exponent\n",
    "        while exp_aux < 0:\n",
    "            exp_aux += self.p - 1\n",
    "        return FinitFieldElement(pow(self.value,exp_aux,self.p), self.p)\n",
    "    \n",
    "    def __eq__(self, y):\n",
    "        if y == None: return False\n",
    "        return (self.value == y.value) and (self.p == y.p)\n",
    "    \n",
    "    def check_errors(number,p):\n",
    "        if not isinstance(number, int):\n",
    "            raise TypeError(\"The number must be integer\")\n",
    "        # if not(0 <= number < p):\n",
    "        #     raise ValueError(\"The number must be greater than or equal to 0 and lower than the prime number P\")\n",
    "            \n",
    "    def check_field(self, y):\n",
    "        if y.p != self.p:\n",
    "            raise TypeError(\"The numbers must belong to the same finit field\")\n",
    "            \n",
    "    def extended_euclidean_algorithm(self):\n",
    "        r0, r1 = self.value, self.p\n",
    "        s0, s1 = 1, 0\n",
    "        t0, t1 = 0, 1\n",
    "    \n",
    "        while r1 != 0:\n",
    "            q = r0 // r1\n",
    "            r0, r1 = r1, r0 % r1\n",
    "            s0, s1 = s1, s0 - q * s1\n",
    "            t0, t1 = t1, t0 - q * t1\n",
    "        if r0 != 1:\n",
    "            raise ValueError(f\"The value {self.value} has not inverse of multiplication in {self.p}-finit field\")\n",
    "    \n",
    "        return s0 % self.p\n",
    "    \n",
    "    def fermats_little_theorem(self):\n",
    "        return (self.value ** (self.p - 2))%self.p"
   ]
  },
  {
   "cell_type": "code",
   "execution_count": 71,
   "id": "1055ba25-3ac4-4940-96e9-8304846041a7",
   "metadata": {
    "tags": []
   },
   "outputs": [],
   "source": [
    "class EllipticCurveElement():\n",
    "    def __init__(self,x,y,a,b):\n",
    "        if not(x==None and y==None):\n",
    "            EllipticCurveElement.check_point(x,y,a,b)\n",
    "        self.x = x\n",
    "        self.y = y\n",
    "        self.a = a\n",
    "        self.b = b\n",
    "        \n",
    "    def __add__(self, other_point):\n",
    "        self.check_same_curve(other_point)\n",
    "        \n",
    "        if self.is_inf(): return other_point\n",
    "        elif other_point.is_inf(): return self\n",
    "        elif (self.x==other_point.x and self.y!=other_point.y) or (self == other_point and self.y.value == 0): \n",
    "            return EllipticCurveElement(None,None,self.a,self.b)\n",
    "    \n",
    "        s = (other_point.y - self.y)/(other_point.x - self.x) if self!=other_point \\\n",
    "        else (FinitFieldElement(3, self.x.p)*(self.x**2)+self.a)/(FinitFieldElement(2, self.x.p)*self.y)\n",
    "        x = s**2 - self.x - other_point.x\n",
    "        y = s * (self.x - x) - self.y\n",
    "        return EllipticCurveElement(x,y,self.a,self.b)\n",
    "    \n",
    "    def __rmul__(self, coefficient):\n",
    "        coef = coefficient\n",
    "        current = self\n",
    "        result = self.__class__(None, None, self.a, self.b)\n",
    "        while coef:\n",
    "            if coef & 1:\n",
    "                result += current\n",
    "            current += current\n",
    "            coef >>= 1\n",
    "        return result\n",
    "        \n",
    "    def __eq__(self, other_point):\n",
    "        return (self.x == other_point.x) and (self.y == other_point.y) \n",
    "    \n",
    "    \n",
    "    def __ne__(self, other_point):\n",
    "        return not (self==other_point)\n",
    "        \n",
    "    def is_inf(self):\n",
    "        return (self.x==None) and (self.y==None)\n",
    "    \n",
    "    def get_group_order(self):\n",
    "        result=self\n",
    "        k=1\n",
    "        while result.x != None or result.y != None:\n",
    "            result += self\n",
    "            k+=1\n",
    "        return k\n",
    "            \n",
    "    def check_same_curve(self, other_point):\n",
    "        if self.a != other_point.a or self.b != other_point.b:\n",
    "            raise ValueError(f\"(The given points are not in the same elliptic curve\")\n",
    "\n",
    "    def check_point(x,y,a,b):\n",
    "        if (x==None) ^ (y==None):\n",
    "            raise ValueError(f\"Invalid point\")\n",
    "        # if abs((y**2) - (x**3 + a * x + b)) > 0.000001:\n",
    "        #     raise ValueError(f\"The point ({x},{y}) is not on the elliptic curve\")            \n",
    "        if y**2 != x**3 + a * x + b:\n",
    "            raise ValueError(f\"The point ({x},{y}) is not on the elliptic curve\")\n",
    "        "
   ]
  },
  {
   "cell_type": "code",
   "execution_count": null,
   "id": "fedd6c76-e01b-48ff-a3c5-f25b826ca1d9",
   "metadata": {
    "tags": []
   },
   "outputs": [],
   "source": [
    "p1 = EllipticCurveElement(0,2.64575131106459059,0,7)\n",
    "p2 = EllipticCurveElement(0,-2.64575131106459059,0,7)\n",
    "\n",
    "print((p1+p2).y)"
   ]
  },
  {
   "cell_type": "code",
   "execution_count": 6,
   "id": "3cc145b6-e9f4-43ab-8d19-db270dddb06a",
   "metadata": {
    "tags": []
   },
   "outputs": [
    {
     "name": "stdout",
     "output_type": "stream",
     "text": [
      "llega\n",
      "1*(47,71)=(47,71)\n",
      "2*(47,71)=(36,111)\n",
      "3*(47,71)=(15,137)\n",
      "4*(47,71)=(194,51)\n",
      "5*(47,71)=(126,96)\n",
      "6*(47,71)=(139,137)\n",
      "7*(47,71)=(92,47)\n",
      "8*(47,71)=(116,55)\n",
      "9*(47,71)=(69,86)\n",
      "10*(47,71)=(154,150)\n",
      "11*(47,71)=(154,73)\n",
      "12*(47,71)=(69,137)\n",
      "13*(47,71)=(116,168)\n",
      "14*(47,71)=(92,176)\n",
      "15*(47,71)=(139,86)\n",
      "16*(47,71)=(126,127)\n",
      "17*(47,71)=(194,172)\n",
      "18*(47,71)=(15,86)\n",
      "19*(47,71)=(36,112)\n",
      "20*(47,71)=(47,152)\n"
     ]
    }
   ],
   "source": [
    "prime = 223\n",
    "a = FinitFieldElement(0, prime)\n",
    "b = FinitFieldElement(7, prime)\n",
    "x = FinitFieldElement(47, prime)\n",
    "y = FinitFieldElement(71, prime)\n",
    "p = EllipticCurveElement(x, y, a, b)\n",
    "print(\"llega\")\n",
    "for s in range(1,21):\n",
    "    result = s*p\n",
    "    print('{}*(47,71)=({},{})'.format(s,result.x.value,result.y.value))\n"
   ]
  },
  {
   "cell_type": "code",
   "execution_count": 7,
   "id": "6cd14149-f823-4e53-b7c6-e3d177c523bf",
   "metadata": {
    "tags": []
   },
   "outputs": [
    {
     "name": "stdout",
     "output_type": "stream",
     "text": [
      "1039\n"
     ]
    }
   ],
   "source": [
    "def is_in_curve(x,y,a,b):\n",
    "    return y**2 == x**3 + a * x + b\n",
    "\n",
    "p = 1021\n",
    "a = FinitFieldElement(-3,p)\n",
    "b = FinitFieldElement(-3,p)\n",
    "n_points = 0\n",
    "for i in range(p):\n",
    "    for j in range(p):\n",
    "        x = FinitFieldElement(i,p)\n",
    "        y = FinitFieldElement(j,p)\n",
    "        if is_in_curve(x,y,a,b):\n",
    "            n_points +=1\n",
    "\n",
    "n_points+=1 #Infinity\n",
    "print(n_points)"
   ]
  },
  {
   "cell_type": "code",
   "execution_count": 16,
   "id": "fa750aad-5977-4f71-9f48-b6fd6545ca80",
   "metadata": {
    "tags": []
   },
   "outputs": [
    {
     "name": "stdout",
     "output_type": "stream",
     "text": [
      "19\n"
     ]
    }
   ],
   "source": [
    "def is_in_curve(x,y,a,b):\n",
    "    return y**2 == x**3 + a * x + b\n",
    "\n",
    "p = 17\n",
    "a = FinitFieldElement(2,p)\n",
    "b = FinitFieldElement(2,p)\n",
    "n_points = 0\n",
    "for i in range(p):\n",
    "    for j in range(p):\n",
    "        x = FinitFieldElement(i,p)\n",
    "        y = FinitFieldElement(j,p)\n",
    "        if is_in_curve(x,y,a,b):\n",
    "            n_points +=1\n",
    "\n",
    "n_points+=1 #Infinity\n",
    "print(n_points)"
   ]
  },
  {
   "cell_type": "code",
   "execution_count": 8,
   "id": "6932c20b-6d7f-4e3a-8215-74b08e74a27e",
   "metadata": {
    "tags": []
   },
   "outputs": [
    {
     "name": "stdout",
     "output_type": "stream",
     "text": [
      "(388,60)\n"
     ]
    }
   ],
   "source": [
    "# Usando P=(379,1011), obtener kP, siendo k=655.\n",
    "\n",
    "x=FinitFieldElement(379,p)\n",
    "y=FinitFieldElement(1011,p)\n",
    "point=EllipticCurveElement(x,y,a,b)\n",
    "k=655\n",
    "\n",
    "result = k*point\n",
    "print(f\"({result.x.value},{result.y.value})\")"
   ]
  },
  {
   "cell_type": "code",
   "execution_count": 72,
   "id": "1da47e01-4794-40bf-b0e0-894d8a5b772a",
   "metadata": {
    "tags": []
   },
   "outputs": [
    {
     "name": "stdout",
     "output_type": "stream",
     "text": [
      "Listo: (None,None) - k 36 - prev: (0,1)\n"
     ]
    },
    {
     "data": {
      "text/plain": [
       "36"
      ]
     },
     "execution_count": 72,
     "metadata": {},
     "output_type": "execute_result"
    }
   ],
   "source": [
    "x=FinitFieldElement(0,73)\n",
    "y=FinitFieldElement(72,73)\n",
    "a=FinitFieldElement(1,73)\n",
    "b=FinitFieldElement(1,73)\n",
    "point=EllipticCurveElement(x,y,a,b)\n",
    "\n",
    "result=point\n",
    "res_prev=point\n",
    "k=1\n",
    "while result.x != None or result.y != None:\n",
    "    res_prev=result\n",
    "    result += point\n",
    "    k+=1\n",
    "    \n",
    "print(f\"Listo: ({result.x},{result.y}) - k {k} - prev: ({res_prev.x.value},{res_prev.y.value})\")\n",
    "point.get_group_order()"
   ]
  },
  {
   "cell_type": "markdown",
   "id": "72ff68a5-141d-4d4e-bbd6-8b126d0d85aa",
   "metadata": {},
   "source": [
    "- Seleccionar clave privada\n",
    "    - Calcular orden del grupo del generador\n",
    "    - Generar numero random entre 0 y orden-1\n",
    "- Generar clave publica: a*G\n",
    "- Enviar clave publica:\n",
    "- Recibir clave publica ajena: b*G\n",
    "- Generar clave compartida: a*b*G"
   ]
  },
  {
   "cell_type": "code",
   "execution_count": 188,
   "id": "1e5318df-b7d1-4261-ad52-7ac1d2446885",
   "metadata": {
    "tags": []
   },
   "outputs": [
    {
     "data": {
      "text/plain": [
       "39"
      ]
     },
     "execution_count": 188,
     "metadata": {},
     "output_type": "execute_result"
    }
   ],
   "source": [
    "p=43\n",
    "a=FinitFieldElement(0,p)\n",
    "b=FinitFieldElement(6,p)\n",
    "x=FinitFieldElement(9,p)\n",
    "y=FinitFieldElement(2,p)\n",
    "g = EllipticCurveElement(x,y,a,b)\n",
    "g.get_group_order()"
   ]
  },
  {
   "cell_type": "code",
   "execution_count": 189,
   "id": "f28adb2c-0081-487a-b18e-ac09eddf6887",
   "metadata": {
    "tags": []
   },
   "outputs": [
    {
     "name": "stdout",
     "output_type": "stream",
     "text": [
      "----- ECDH -----\n",
      "p:43\n",
      "G:(13, 15)\n",
      "EC: y²=x³+0x+6\n",
      "----------------\n",
      "\n",
      "[BOB] My SK: 6\n",
      "[BOB] My PK: (27,34)\n",
      "[BOB] PK received: (13,28)\n",
      "[BOB] The obtained key is: 27\n",
      "\n",
      "[ALICE] My SK: 12\n",
      "[ALICE] My PK: (13,28)\n",
      "[ALICE] PK received: (27,34)\n",
      "[ALICE] The obtained key is: 27\n",
      "\n"
     ]
    }
   ],
   "source": [
    "import socket\n",
    "import random\n",
    "from multiprocessing import Process, Lock\n",
    "import time\n",
    "import pickle\n",
    "\n",
    "port = random.randint(1024,65535)\n",
    "bob_addr = ('127.0.0.1',port)\n",
    "\n",
    "#Parametros conocidos\n",
    "p=43\n",
    "a=FinitFieldElement(0,p)\n",
    "b=FinitFieldElement(6,p)\n",
    "x=FinitFieldElement(13,p)\n",
    "y=FinitFieldElement(15,p)\n",
    "g = EllipticCurveElement(x,y,a,b)\n",
    "print(\"----- ECDH -----\")\n",
    "print(f\"p:{p}\\nG:{(g.x.value,g.y.value)}\\nEC: y²=x³+{a.value}x+{b.value}\")\n",
    "print(\"----------------\\n\")\n",
    "def diffie_hellman(g, socket,name):\n",
    "    log_msg = []\n",
    "    n_order = g.get_group_order()\n",
    "    \n",
    "    sk = FinitFieldElement(random.randint(1,n_order-1),p)\n",
    "    pk = (sk.value)*g\n",
    "    msg = pickle.dumps(pk)\n",
    "    socket.send(msg)\n",
    "    \n",
    "    msg_rcv = socket.recv(1024)\n",
    "    pk_rcv = pickle.loads(msg_rcv)\n",
    "    shared_key = (sk.value)*pk_rcv\n",
    "    \n",
    "    log_msg.append(f\"[{name}] My SK: {sk.value}\")\n",
    "    log_msg.append(f\"[{name}] My PK: ({pk.x.value},{pk.y.value})\")\n",
    "    log_msg.append(f\"[{name}] PK received: ({pk_rcv.x.value},{pk_rcv.y.value})\")\n",
    "    log_msg.append(f\"[{name}] The obtained key is: {shared_key.x.value}\\n\")\n",
    "    return shared_key, log_msg\n",
    "\n",
    "def alice(g, bob_addr,lock):\n",
    "    skt = socket.socket(socket.AF_INET, socket.SOCK_STREAM)\n",
    "    skt.connect(bob_addr)\n",
    "    \n",
    "    shared_key, log = diffie_hellman(g,skt,'ALICE')\n",
    "\n",
    "    lock.acquire()\n",
    "    print(*log,sep='\\n')\n",
    "    lock.release()\n",
    "    skt.close()\n",
    "    \n",
    "def bob(g, bob_addr,lock):    \n",
    "    wlc_socket = socket.socket(socket.AF_INET, socket.SOCK_STREAM)\n",
    "    wlc_socket.bind(bob_addr)\n",
    "    wlc_socket.listen(0)\n",
    "    skt, _ = wlc_socket.accept()\n",
    "    \n",
    "    shared_key, log = diffie_hellman(g,skt,'BOB')\n",
    "    \n",
    "    lock.acquire()\n",
    "    print(*log,sep='\\n')\n",
    "    lock.release()\n",
    "    skt.close()\n",
    "    \n",
    "    \n",
    "lock = Lock()\n",
    "bob_thread = Process(target=bob,args=(g,bob_addr,lock))\n",
    "bob_thread.start()\n",
    "time.sleep(0.1)\n",
    "alice_thread = Process(target=alice, args=(g,bob_addr,lock))\n",
    "alice_thread.start()\n",
    "\n",
    "bob_thread.join()\n",
    "alice_thread.join()"
   ]
  },
  {
   "cell_type": "code",
   "execution_count": 82,
   "id": "d7710346-a28b-4920-9769-13fc3adec8cf",
   "metadata": {
    "tags": []
   },
   "outputs": [
    {
     "name": "stdout",
     "output_type": "stream",
     "text": [
      "0 - infinito\n",
      "1 - (13,15)\n",
      "2 - (33,34)\n",
      "3 - (38,15)\n",
      "4 - (35,28)\n",
      "5 - (26,34)\n",
      "6 - (27,34)\n",
      "7 - (27,9)\n",
      "8 - (26,9)\n",
      "9 - (35,15)\n",
      "10 - (38,28)\n",
      "11 - (33,9)\n",
      "12 - (13,28)\n",
      "13 - infinito\n"
     ]
    }
   ],
   "source": [
    "n_order = g.get_group_order()\n",
    "for i in range(n_order+1):\n",
    "    res = i*g\n",
    "    if res.x == None and res.y == None:\n",
    "        print(f\"{i} - infinito\")\n",
    "    else:\n",
    "        print(f\"{i} - ({res.x.value},{res.y.value})\")"
   ]
  },
  {
   "cell_type": "code",
   "execution_count": 187,
   "id": "5e7e87c4-7bfd-4e45-9fe3-3b477ede477d",
   "metadata": {
    "collapsed": true,
    "jupyter": {
     "outputs_hidden": true
    },
    "tags": []
   },
   "outputs": [
    {
     "name": "stdout",
     "output_type": "stream",
     "text": [
      "1*1*g = (13, 15)\n",
      "1*2*g = (33, 34)\n",
      "1*3*g = (38, 15)\n",
      "1*4*g = (35, 28)\n",
      "1*5*g = (26, 34)\n",
      "1*6*g = (27, 34)\n",
      "1*7*g = (27, 9)\n",
      "1*8*g = (26, 9)\n",
      "1*9*g = (35, 15)\n",
      "1*10*g = (38, 28)\n",
      "1*11*g = (33, 9)\n",
      "1*12*g = (13, 28)\n",
      "1*13*g = infinito\n",
      "1*14*g = (13, 15)\n",
      "{1, 14}\n",
      "2*2*g = (35, 28)\n",
      "2*3*g = (27, 34)\n",
      "2*4*g = (26, 9)\n",
      "2*5*g = (38, 28)\n",
      "2*6*g = (13, 28)\n",
      "2*7*g = (13, 15)\n",
      "2*8*g = (38, 15)\n",
      "2*9*g = (26, 34)\n",
      "2*10*g = (27, 9)\n",
      "2*11*g = (35, 15)\n",
      "2*12*g = (33, 9)\n",
      "2*13*g = infinito\n",
      "2*14*g = (33, 34)\n",
      "{2, 14}\n",
      "3*3*g = (35, 15)\n",
      "3*4*g = (13, 28)\n",
      "3*5*g = (33, 34)\n",
      "3*6*g = (26, 34)\n",
      "3*7*g = (26, 9)\n",
      "3*8*g = (33, 9)\n",
      "3*9*g = (13, 15)\n",
      "3*10*g = (35, 28)\n",
      "3*11*g = (27, 9)\n",
      "3*12*g = (38, 28)\n",
      "3*13*g = infinito\n",
      "3*14*g = (38, 15)\n",
      "{3, 14}\n",
      "4*4*g = (38, 15)\n",
      "4*5*g = (27, 9)\n",
      "4*6*g = (33, 9)\n",
      "4*7*g = (33, 34)\n",
      "4*8*g = (27, 34)\n",
      "4*9*g = (38, 28)\n",
      "4*10*g = (13, 15)\n",
      "4*11*g = (26, 34)\n",
      "4*12*g = (35, 15)\n",
      "4*13*g = infinito\n",
      "4*14*g = (35, 28)\n",
      "{4, 14}\n",
      "5*5*g = (13, 28)\n",
      "5*6*g = (35, 28)\n",
      "5*7*g = (35, 15)\n",
      "5*8*g = (13, 15)\n",
      "5*9*g = (27, 34)\n",
      "5*10*g = (33, 9)\n",
      "5*11*g = (38, 15)\n",
      "5*12*g = (26, 9)\n",
      "5*13*g = infinito\n",
      "5*14*g = (26, 34)\n",
      "{5, 14}\n",
      "6*6*g = (38, 28)\n",
      "6*7*g = (38, 15)\n",
      "6*8*g = (35, 15)\n",
      "6*9*g = (33, 34)\n",
      "6*10*g = (26, 9)\n",
      "6*11*g = (13, 15)\n",
      "6*12*g = (27, 9)\n",
      "6*13*g = infinito\n",
      "6*14*g = (27, 34)\n",
      "{6, 14}\n",
      "7*7*g = (38, 28)\n",
      "7*8*g = (35, 28)\n",
      "7*9*g = (33, 9)\n",
      "7*10*g = (26, 34)\n",
      "7*11*g = (13, 28)\n",
      "7*12*g = (27, 34)\n",
      "7*13*g = infinito\n",
      "7*14*g = (27, 9)\n",
      "{14, 7}\n",
      "8*8*g = (13, 28)\n",
      "8*9*g = (27, 9)\n",
      "8*10*g = (33, 34)\n",
      "8*11*g = (38, 28)\n",
      "8*12*g = (26, 34)\n",
      "8*13*g = infinito\n",
      "8*14*g = (26, 9)\n",
      "{8, 14}\n",
      "9*9*g = (38, 15)\n",
      "9*10*g = (13, 28)\n",
      "9*11*g = (26, 9)\n",
      "9*12*g = (35, 28)\n",
      "9*13*g = infinito\n",
      "9*14*g = (35, 15)\n",
      "{9, 14}\n",
      "10*10*g = (35, 15)\n",
      "10*11*g = (27, 34)\n",
      "10*12*g = (38, 15)\n",
      "10*13*g = infinito\n",
      "10*14*g = (38, 28)\n",
      "{10, 14}\n",
      "11*11*g = (35, 28)\n",
      "11*12*g = (33, 34)\n",
      "11*13*g = infinito\n",
      "11*14*g = (33, 9)\n",
      "{11, 14}\n",
      "12*12*g = (13, 15)\n",
      "12*13*g = infinito\n",
      "12*14*g = (13, 28)\n",
      "{12, 14}\n",
      "13*13*g = infinito\n",
      "13*14*g = infinito\n",
      "{13, 14}\n",
      "14*14*g = (13, 15)\n",
      "{14}\n"
     ]
    }
   ],
   "source": [
    "i=1\n",
    "k=1\n",
    "\n",
    "for i in range(1,15):\n",
    "    i_f = FinitFieldElement(i,n_order)\n",
    "    for j in range(k,15):\n",
    "        j_f = FinitFieldElement(j, n_order)\n",
    "        res = (i_f.value)*(j_f.value)*g\n",
    "        #res = (i)*(j)*g\n",
    "        if res.x==None:\n",
    "            print(f\"{i}*{j}*g = infinito\")\n",
    "        else:\n",
    "            print(f\"{i}*{j}*g = {res.x.value,res.y.value}\")\n",
    "    print({i,j})\n",
    "    k+=1"
   ]
  }
 ],
 "metadata": {
  "kernelspec": {
   "display_name": "Python 3 (ipykernel)",
   "language": "python",
   "name": "python3"
  },
  "language_info": {
   "codemirror_mode": {
    "name": "ipython",
    "version": 3
   },
   "file_extension": ".py",
   "mimetype": "text/x-python",
   "name": "python",
   "nbconvert_exporter": "python",
   "pygments_lexer": "ipython3",
   "version": "3.8.10"
  }
 },
 "nbformat": 4,
 "nbformat_minor": 5
}
