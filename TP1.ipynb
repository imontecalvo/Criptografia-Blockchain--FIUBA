{
 "cells": [
  {
   "cell_type": "code",
   "execution_count": 54,
   "id": "50254f5d-4f5d-4249-af14-b8a2f578172f",
   "metadata": {
    "tags": []
   },
   "outputs": [],
   "source": [
    "class FinitFieldElement():\n",
    "    def __init__(self, number:int, p:int):\n",
    "        FinitFieldElement.check_errors(number, p)\n",
    "        self.value = number\n",
    "        self.p = p\n",
    "        self.inv_mul_method = 'fermat'\n",
    "        \n",
    "    def __add__(self, y):\n",
    "        self.check_field(y)\n",
    "        return FinitFieldElement((self.value + y.value)%self.p, self.p)\n",
    "    \n",
    "    def __sub__(self, y):\n",
    "        self.check_field(y)\n",
    "        return FinitFieldElement((self.value - y.value)%self.p, self.p)\n",
    "    \n",
    "    def __mul__(self, y):\n",
    "        self.check_field(y)\n",
    "        return FinitFieldElement((self.value * y.value)%self.p, self.p)\n",
    "\n",
    "    def __truediv__(self, y):\n",
    "        self.check_field(y)\n",
    "            \n",
    "        inv_mul_y = y.extended_euclidean_algorithm() if self.inv_mul_method=='euclidean' else y.fermats_little_theorem()\n",
    "        return FinitFieldElement((self.value * inv_mul_y)%self.p,self.p)\n",
    "    \n",
    "    def __pow__(self, exponent):\n",
    "        exp_aux = exponent\n",
    "        while exp_aux < 0:\n",
    "            exp_aux += self.p - 1\n",
    "        return FinitFieldElement(pow(self.value,exp_aux,self.p), self.p)\n",
    "    \n",
    "    \n",
    "    def check_errors(number,p):\n",
    "        if not isinstance(number, int):\n",
    "            raise TypeError(\"The number must be integer\")\n",
    "        if not(0 <= number < p):\n",
    "            raise ValueError(\"The number must be greater than or equal to 0 and lower than the prime number P\")\n",
    "            \n",
    "    def check_field(self, y):\n",
    "        if y.p != self.p:\n",
    "            raise TypeError(\"The numbers must belong to the same finit field\")\n",
    "            \n",
    "    def extended_euclidean_algorithm(self):\n",
    "        r0, r1 = self.value, self.p\n",
    "        s0, s1 = 1, 0\n",
    "        t0, t1 = 0, 1\n",
    "    \n",
    "        while r1 != 0:\n",
    "            q = r0 // r1\n",
    "            r0, r1 = r1, r0 % r1\n",
    "            s0, s1 = s1, s0 - q * s1\n",
    "            t0, t1 = t1, t0 - q * t1\n",
    "        if r0 != 1:\n",
    "            raise ValueError(f\"The value {self.value} has not inverse of multiplication in {self.p}-finit field\")\n",
    "    \n",
    "        return s0 % self.p\n",
    "    \n",
    "    def fermats_little_theorem(self):\n",
    "        return (self.value ** (self.p - 2))%self.p"
   ]
  },
  {
   "cell_type": "code",
   "execution_count": 52,
   "id": "cbce2908-5885-4ef2-923c-418cfc335a54",
   "metadata": {
    "tags": []
   },
   "outputs": [
    {
     "data": {
      "text/plain": [
       "<__main__.FinitFieldElement at 0x7f2548b78700>"
      ]
     },
     "execution_count": 52,
     "metadata": {},
     "output_type": "execute_result"
    }
   ],
   "source": [
    "x = FinitFieldElement(5,11)\n",
    "y = FinitFieldElement(8,11)\n",
    "z = FinitFieldElement(2,11)\n",
    "\n",
    "\n",
    "x-y"
   ]
  }
 ],
 "metadata": {
  "kernelspec": {
   "display_name": "Python 3 (ipykernel)",
   "language": "python",
   "name": "python3"
  },
  "language_info": {
   "codemirror_mode": {
    "name": "ipython",
    "version": 3
   },
   "file_extension": ".py",
   "mimetype": "text/x-python",
   "name": "python",
   "nbconvert_exporter": "python",
   "pygments_lexer": "ipython3",
   "version": "3.8.10"
  }
 },
 "nbformat": 4,
 "nbformat_minor": 5
}
