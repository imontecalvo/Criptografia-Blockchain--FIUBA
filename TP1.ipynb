{
 "cells": [
  {
   "cell_type": "code",
   "execution_count": 9,
   "id": "0c18c09a-59ce-454b-9a42-88b358b89138",
   "metadata": {
    "tags": []
   },
   "outputs": [
    {
     "data": {
      "text/plain": [
       "1"
      ]
     },
     "execution_count": 9,
     "metadata": {},
     "output_type": "execute_result"
    }
   ],
   "source": [
    "pow(5,-5+10,11)"
   ]
  },
  {
   "cell_type": "code",
   "execution_count": 38,
   "id": "50254f5d-4f5d-4249-af14-b8a2f578172f",
   "metadata": {
    "tags": []
   },
   "outputs": [],
   "source": [
    "class FinitFieldElement():\n",
    "    def __init__(self, number:int, p:int):\n",
    "        FinitFieldElement.check_errors(number, p)\n",
    "        self.value = number\n",
    "        self.p = p\n",
    "        \n",
    "    def __add__(self, y):\n",
    "        self.check_field(y)\n",
    "        return FinitFieldElement((self.value + y.value)%self.p, self.p)\n",
    "    \n",
    "    def __sub__(self, y):\n",
    "        self.check_field(y)\n",
    "        return FinitFieldElement((self.value - y.value)%self.p, self.p)\n",
    "    \n",
    "    def __mul__(self, y):\n",
    "        self.check_field(y)\n",
    "        return FinitFieldElement((self.value * y.value)%self.p, self.p)\n",
    "\n",
    "    def __truediv__(self, y, inv_mul_method='euclidean'):\n",
    "        if inv_mul_method != 'euclidean' and inv_mul_method != 'fermat':\n",
    "            raise ValueError(\"The method to compute the multiplicative inverse must be 'euclidean' or 'fermat'\")\n",
    "        self.check_field(y)\n",
    "            \n",
    "        inv_mul_y = y.extended_euclidean_algorithm() if inv_mul_method =='euclidean' else y.fermats_little_theorem()\n",
    "        return FinitFieldElement((self.value * inv_mul_y)%self.p,self.p)\n",
    "    \n",
    "    def __pow__(self, exponent):\n",
    "        exp_aux = exponent\n",
    "        while exp_aux < 0:\n",
    "            exp_aux += self.p - 1\n",
    "        return FinitFieldElement(pow(self.value,exp_aux,self.p), self.p)\n",
    "    \n",
    "    def __eq__(self, y):\n",
    "        return (self.value == y.value) and (self.p == y.p)\n",
    "    \n",
    "    def check_errors(number,p):\n",
    "        if not isinstance(number, int):\n",
    "            raise TypeError(\"The number must be integer\")\n",
    "        if not(0 <= number < p):\n",
    "            raise ValueError(\"The number must be greater than or equal to 0 and lower than the prime number P\")\n",
    "            \n",
    "    def check_field(self, y):\n",
    "        if y.p != self.p:\n",
    "            raise TypeError(\"The numbers must belong to the same finit field\")\n",
    "            \n",
    "    def extended_euclidean_algorithm(self):\n",
    "        r0, r1 = self.value, self.p\n",
    "        s0, s1 = 1, 0\n",
    "        t0, t1 = 0, 1\n",
    "    \n",
    "        while r1 != 0:\n",
    "            q = r0 // r1\n",
    "            r0, r1 = r1, r0 % r1\n",
    "            s0, s1 = s1, s0 - q * s1\n",
    "            t0, t1 = t1, t0 - q * t1\n",
    "        if r0 != 1:\n",
    "            raise ValueError(f\"The value {self.value} has not inverse of multiplication in {self.p}-finit field\")\n",
    "    \n",
    "        return s0 % self.p\n",
    "    \n",
    "    def fermats_little_theorem(self):\n",
    "        return (self.value ** (self.p - 2))%self.p"
   ]
  },
  {
   "cell_type": "code",
   "execution_count": 40,
   "id": "cbce2908-5885-4ef2-923c-418cfc335a54",
   "metadata": {
    "tags": []
   },
   "outputs": [
    {
     "data": {
      "text/plain": [
       "True"
      ]
     },
     "execution_count": 40,
     "metadata": {},
     "output_type": "execute_result"
    }
   ],
   "source": [
    "x = FinitFieldElement(5,11)\n",
    "y = FinitFieldElement(8,11)\n",
    "z = FinitFieldElement(5,11)\n",
    "\n",
    "\n",
    "x==z"
   ]
  },
  {
   "cell_type": "code",
   "execution_count": 116,
   "id": "1055ba25-3ac4-4940-96e9-8304846041a7",
   "metadata": {
    "tags": []
   },
   "outputs": [],
   "source": [
    "class EllipticCurveElement():\n",
    "    def __init__(self,x,y,a,b):\n",
    "        if not(x==None and y==None):\n",
    "            EllipticCurveElement.check_point(x,y,a,b)\n",
    "        self.x = x\n",
    "        self.y = y\n",
    "        self.a = a\n",
    "        self.b = b\n",
    "        \n",
    "    def __add__(self, other_point):\n",
    "        self.check_same_curve(other_point)\n",
    "        \n",
    "        if self.is_inf(): return other_point\n",
    "        elif other_point.is_inf(): return self\n",
    "        elif self.x==other_point.x and self.y!=other_point.y: return EllipticCurveElement(None,None,self.a,self.b)\n",
    "    \n",
    "        s = (other_point.y - self.y)/(other_point.x - self.x) if self!=other_point else (3*(self.x**2)+self.a)/(2*self.y)\n",
    "        x = s**2 - self.x - other_point.x\n",
    "        y = s * (self.x - x) - self.y\n",
    "        return EllipticCurveElement(x,y,self.a,self.b)\n",
    "        \n",
    "        \n",
    "    def __eq__(self, other_point):\n",
    "        return (self.x == other_point.x) and (self.y == other_point.y) \n",
    "    \n",
    "    \n",
    "    def __ne__(self, other_point):\n",
    "        return not (self==other_point)\n",
    "        \n",
    "    def is_inf(self):\n",
    "        return (self.x==None) and (self.y==None)\n",
    "            \n",
    "    def check_same_curve(self, other_point):\n",
    "        if self.a != other_point.a or self.b != other_point.b:\n",
    "            raise ValueError(f\"(The given points are not in the same elliptic curve\")\n",
    "            \n",
    "    def check_point(x,y,a,b):\n",
    "        if (x==None) ^ (y==None):\n",
    "            raise ValueError(f\"Invalid point\")\n",
    "        # if abs((y**2) - (x**3 + a * x + b)) > 0.000001:\n",
    "        #     raise ValueError(f\"The point ({x},{y}) is not on the elliptic curve\")            \n",
    "        if y**2 != x**3 + a * x + b:\n",
    "            raise ValueError(f\"The point ({x},{y}) is not on the elliptic curve\")\n",
    "        "
   ]
  },
  {
   "cell_type": "code",
   "execution_count": 115,
   "id": "fedd6c76-e01b-48ff-a3c5-f25b826ca1d9",
   "metadata": {
    "tags": []
   },
   "outputs": [
    {
     "name": "stdout",
     "output_type": "stream",
     "text": [
      "None\n"
     ]
    }
   ],
   "source": [
    "p1 = EllipticCurveElement(0,2.64575131106459059,0,7)\n",
    "p2 = EllipticCurveElement(0,-2.64575131106459059,0,7)\n",
    "\n",
    "print((p1+p2).y)"
   ]
  }
 ],
 "metadata": {
  "kernelspec": {
   "display_name": "Python 3 (ipykernel)",
   "language": "python",
   "name": "python3"
  },
  "language_info": {
   "codemirror_mode": {
    "name": "ipython",
    "version": 3
   },
   "file_extension": ".py",
   "mimetype": "text/x-python",
   "name": "python",
   "nbconvert_exporter": "python",
   "pygments_lexer": "ipython3",
   "version": "3.8.10"
  }
 },
 "nbformat": 4,
 "nbformat_minor": 5
}
