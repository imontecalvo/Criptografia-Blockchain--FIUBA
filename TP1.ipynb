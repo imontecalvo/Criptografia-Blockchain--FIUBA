{
 "cells": [
  {
   "cell_type": "markdown",
   "id": "1fb13422-4b1a-4852-b3c2-095d18c96065",
   "metadata": {},
   "source": [
    "# Criptografía Práctica y Blockchain: Trabajo Práctico 1"
   ]
  },
  {
   "cell_type": "markdown",
   "id": "f15071bf-c12a-4cc8-bb6a-bc3a461a979d",
   "metadata": {},
   "source": [
    "## Ejercicio 1\n",
    "\n",
    "Implementar un tipo de dato para un elemento de cuerpo finito, junto con sus operaciones aritméticas fundamentales (adición, sustracción, multiplicación y división)."
   ]
  },
  {
   "cell_type": "code",
   "execution_count": 1,
   "id": "50254f5d-4f5d-4249-af14-b8a2f578172f",
   "metadata": {
    "tags": []
   },
   "outputs": [],
   "source": [
    "class FinitFieldElement():\n",
    "    def __init__(self, number:int, p:int):\n",
    "        FinitFieldElement.check_errors(number, p)\n",
    "        self.value = number%p\n",
    "        self.p = p\n",
    "        \n",
    "    def __add__(self, y):\n",
    "        self.check_field(y)\n",
    "        return FinitFieldElement((self.value + y.value)%self.p, self.p)\n",
    "    \n",
    "    def __sub__(self, y):\n",
    "        self.check_field(y)\n",
    "        return FinitFieldElement((self.value - y.value)%self.p, self.p)\n",
    "    \n",
    "    def __mul__(self, y):\n",
    "        self.check_field(y)\n",
    "        return FinitFieldElement((self.value * y.value)%self.p, self.p)\n",
    "\n",
    "    def __truediv__(self, y, inv_mul_method='euclidean'):\n",
    "        if inv_mul_method != 'euclidean' and inv_mul_method != 'fermat':\n",
    "            raise ValueError(\"The method to compute the multiplicative inverse must be 'euclidean' or 'fermat'\")\n",
    "        self.check_field(y)\n",
    "            \n",
    "        inv_mul_y = y.extended_euclidean_algorithm() if inv_mul_method =='euclidean' else y.fermats_little_theorem()\n",
    "        return FinitFieldElement((self.value * inv_mul_y)%self.p,self.p)\n",
    "    \n",
    "    def __pow__(self, exponent):\n",
    "        exp_aux = exponent\n",
    "        while exp_aux < 0:\n",
    "            exp_aux += self.p - 1\n",
    "        return FinitFieldElement(pow(self.value,exp_aux,self.p), self.p)\n",
    "    \n",
    "    def __eq__(self, y):\n",
    "        if y == None: return False\n",
    "        return (self.value == y.value) and (self.p == y.p)\n",
    "    \n",
    "    def check_errors(number,p):\n",
    "        if not isinstance(number, int):\n",
    "            raise TypeError(\"The number must be integer\")\n",
    "            \n",
    "    def check_field(self, y):\n",
    "        if y.p != self.p:\n",
    "            raise TypeError(\"The numbers must belong to the same finit field\")\n",
    "            \n",
    "    def extended_euclidean_algorithm(self):\n",
    "        r0, r1 = self.value, self.p\n",
    "        s0, s1 = 1, 0\n",
    "        t0, t1 = 0, 1\n",
    "    \n",
    "        while r1 != 0:\n",
    "            q = r0 // r1\n",
    "            r0, r1 = r1, r0 % r1\n",
    "            s0, s1 = s1, s0 - q * s1\n",
    "            t0, t1 = t1, t0 - q * t1\n",
    "        if r0 != 1:\n",
    "            raise ValueError(f\"The value {self.value} has not inverse of multiplication in {self.p}-finit field\")\n",
    "    \n",
    "        return s0 % self.p\n",
    "    \n",
    "    def fermats_little_theorem(self):\n",
    "        return (self.value ** (self.p - 2))%self.p"
   ]
  },
  {
   "cell_type": "markdown",
   "id": "c536a477-ed78-4840-895e-c5ba267b9414",
   "metadata": {},
   "source": [
    "## Ejercicio 2\n",
    "\n",
    "Implementar un tipo de dato para puntos de una curva elíptica, junto con las operaciones de grupo (suma de puntos distintos y duplicación de puntos), utilizando la forma de Weierstrass. \n",
    "\n",
    "Hacer pruebas con la curva $y^2=x^3-3x-3$ y $p=1021$, determinando la cantidad de puntos que tiene la curva. \n",
    "\n",
    "Usando $P=(379,1011)$, obtener $kP$, siendo $k=655$."
   ]
  },
  {
   "cell_type": "code",
   "execution_count": 9,
   "id": "1055ba25-3ac4-4940-96e9-8304846041a7",
   "metadata": {
    "tags": []
   },
   "outputs": [],
   "source": [
    "# implementacion elemento de curva eliptica\n",
    "class EllipticCurveElement():\n",
    "    def __init__(self,x,y,a,b):\n",
    "        if not(x==None and y==None):\n",
    "            EllipticCurveElement.check_point(x,y,a,b)\n",
    "        self.x = x\n",
    "        self.y = y\n",
    "        self.a = a\n",
    "        self.b = b\n",
    "        \n",
    "    def __add__(self, other_point):\n",
    "        self.check_same_curve(other_point)\n",
    "        \n",
    "        if self.is_inf(): return other_point\n",
    "        elif other_point.is_inf(): return self\n",
    "        elif (self.x==other_point.x and self.y!=other_point.y) or (self == other_point and self.y.value == 0): \n",
    "            return EllipticCurveElement(None,None,self.a,self.b)\n",
    "    \n",
    "        s = (other_point.y - self.y)/(other_point.x - self.x) if self!=other_point \\\n",
    "        else (FinitFieldElement(3, self.x.p)*(self.x**2)+self.a)/(FinitFieldElement(2, self.x.p)*self.y)\n",
    "        x = s**2 - self.x - other_point.x\n",
    "        y = s * (self.x - x) - self.y\n",
    "        return EllipticCurveElement(x,y,self.a,self.b)\n",
    "    \n",
    "    # implementacion mas eficiente, aunque en el fondo consiste en aplicar la suma k veces\n",
    "    def __rmul__(self, coefficient):\n",
    "        coef = coefficient\n",
    "        current = self\n",
    "        result = self.__class__(None, None, self.a, self.b)\n",
    "        while coef:\n",
    "            if coef & 1:\n",
    "                result += current\n",
    "            current += current\n",
    "            coef >>= 1\n",
    "        return result\n",
    "        \n",
    "    def __eq__(self, other_point):\n",
    "        return (self.x == other_point.x) and (self.y == other_point.y) \n",
    "    \n",
    "    \n",
    "    def __ne__(self, other_point):\n",
    "        return not (self==other_point)\n",
    "        \n",
    "    def is_inf(self):\n",
    "        return (self.x==None) and (self.y==None)\n",
    "    \n",
    "    def get_group_order(self):\n",
    "        result=self\n",
    "        k=1\n",
    "        while result.x != None or result.y != None:\n",
    "            result += self\n",
    "            k+=1\n",
    "        return k\n",
    "            \n",
    "    def check_same_curve(self, other_point):\n",
    "        if self.a != other_point.a or self.b != other_point.b:\n",
    "            raise ValueError(f\"(The given points are not in the same elliptic curve\")\n",
    "\n",
    "    def check_point(x,y,a,b):\n",
    "        if (x==None) ^ (y==None):\n",
    "            raise ValueError(f\"Invalid point\")    \n",
    "        if y**2 != x**3 + a * x + b:\n",
    "            raise ValueError(f\"The point ({x},{y}) is not on the elliptic curve\")\n",
    "        "
   ]
  },
  {
   "cell_type": "markdown",
   "id": "646b4829-7965-4d92-a514-35bc7c6597cb",
   "metadata": {},
   "source": [
    "Ahora vamos a averiguar cuantos puntos contiene la curva $y^2=x^3-3x-3$ sobre el cuerpo finito $Z_p$ con $p=1021$.\n",
    "\n",
    "Para ello, vamos a ir por la forma directa, donde nos generamos los distintos puntos posibles y chequeamos uno por uno si pertenecen o no a la curva viendo si cumplen o no la igualdad. Además, al resultado obtenido sumamos 1 por el punto en el infinito."
   ]
  },
  {
   "cell_type": "code",
   "execution_count": 4,
   "id": "6cd14149-f823-4e53-b7c6-e3d177c523bf",
   "metadata": {
    "tags": []
   },
   "outputs": [
    {
     "name": "stdout",
     "output_type": "stream",
     "text": [
      "La curva en cuestión posee 1039 puntos\n"
     ]
    }
   ],
   "source": [
    "def is_in_curve(x,y,a,b):\n",
    "    return y**2 == x**3 + a * x + b\n",
    "\n",
    "p = 1021\n",
    "a = FinitFieldElement(-3,p)\n",
    "b = FinitFieldElement(-3,p)\n",
    "n_points = 0\n",
    "for i in range(p):\n",
    "    for j in range(p):\n",
    "        x = FinitFieldElement(i,p)\n",
    "        y = FinitFieldElement(j,p)\n",
    "        if is_in_curve(x,y,a,b):\n",
    "            n_points +=1\n",
    "\n",
    "n_points+=1 #Infinity\n",
    "print(f\"La curva en cuestión posee {n_points} puntos\")"
   ]
  },
  {
   "cell_type": "markdown",
   "id": "645540de-0ea5-4c57-99a4-fe4703b90de7",
   "metadata": {},
   "source": [
    "Por último, vamos a calcular una multiplicación escalar obteniendo $kP$, tal que $P=(379,1011)$ y $k=655$."
   ]
  },
  {
   "cell_type": "code",
   "execution_count": 7,
   "id": "6932c20b-6d7f-4e3a-8215-74b08e74a27e",
   "metadata": {
    "tags": []
   },
   "outputs": [
    {
     "name": "stdout",
     "output_type": "stream",
     "text": [
      "kP = (388,60)\n"
     ]
    }
   ],
   "source": [
    "# scalar multiplication P=(379,1011), k=655.\n",
    "\n",
    "x=FinitFieldElement(379,p)\n",
    "y=FinitFieldElement(1011,p)\n",
    "point=EllipticCurveElement(x,y,a,b)\n",
    "k=655\n",
    "\n",
    "result = k*point\n",
    "print(f\"kP = ({result.x.value},{result.y.value})\")"
   ]
  },
  {
   "cell_type": "markdown",
   "id": "24987c61-897c-42c6-ad45-3e0ac35dd859",
   "metadata": {},
   "source": [
    "## Ejercicio 3\n",
    "Implementar un esquema básico de acuerdo de clave de Diffie-Hellman usando curvas elípticas. Usar la curva con $p=43$, $y^2=x^3+6$ y como generador $g=(13,15)$.\n",
    "\n",
    "¿Qué sucede si se emplea el punto $g=(9,2)$?"
   ]
  },
  {
   "cell_type": "markdown",
   "id": "72ff68a5-141d-4d4e-bbd6-8b126d0d85aa",
   "metadata": {},
   "source": [
    "Para implementar un esquema básico de Diffie-Hellman cada una de las partes deberá seguir los siguientes pasos:\n",
    "1. Seleccionar clave privada **pk**\n",
    "    - Calcular orden del grupo del generador\n",
    "    - Generar numero entre 0 y orden-1\n",
    "2. Calcular **pk * G**\n",
    "3. Enviar **pk * G** a la otra parte\n",
    "4. Recibir clave pública de la otra parte: **pk' * G**\n",
    "5. Calcular clave compartida: **pk * pk' * G** (o usar este resultado para generarla). En esta implementación simplemente nos quedamos con la componente x\n",
    "\n",
    "Para simular el intercambio de mensajes entre las dos partes (Alice y Bob) voy a optar por utilizar dos threads que se van a comunicar utilizando sockets."
   ]
  },
  {
   "cell_type": "code",
   "execution_count": 39,
   "id": "f28adb2c-0081-487a-b18e-ac09eddf6887",
   "metadata": {
    "tags": []
   },
   "outputs": [],
   "source": [
    "import socket\n",
    "import random\n",
    "from threading import Thread, Lock\n",
    "import time\n",
    "import pickle\n",
    "import queue\n",
    "\n",
    "#obtener log\n",
    "def get_log(name, order, sk, pk, pk_rcv, shared_key):\n",
    "    log_msg = []\n",
    "    log_msg.append(f\"[{name}] The order of the group is: {order}\")\n",
    "    log_msg.append(f\"[{name}] My SK: {sk.value}\")\n",
    "    log_msg.append(f\"[{name}] My PK: ({pk.x.value},{pk.y.value})\")\n",
    "    log_msg.append(f\"[{name}] PK received: ({pk_rcv.x.value},{pk_rcv.y.value})\")\n",
    "    log_msg.append(f\"[{name}] The obtained key is: {(shared_key.x.value, shared_key.y.value)}, but only X component: {shared_key.x.value} will be used\\n\")\n",
    "    return log_msg\n",
    "\n",
    "#intercambio de mensajes\n",
    "def exchange_msg(g, socket,name):\n",
    "    n_order = g.get_group_order()\n",
    "    \n",
    "    #calculo y envio pk * G\n",
    "    sk = FinitFieldElement(random.randint(1,n_order-1),p)\n",
    "    pk = (sk.value)*g\n",
    "    msg = pickle.dumps(pk)\n",
    "    socket.send(msg)\n",
    "    \n",
    "    #recibo pk' * G\n",
    "    msg_rcv = socket.recv(1024)\n",
    "    pk_rcv = pickle.loads(msg_rcv)\n",
    "    \n",
    "    #calculo clave compartida\n",
    "    shared_key = (sk.value)*pk_rcv\n",
    "    log_msg = get_log(name, n_order, sk, pk, pk_rcv, shared_key)\n",
    "    shared_key = shared_key.x.value\n",
    "    return shared_key, log_msg\n",
    "\n",
    "def alice(g, bob_addr,lock,q):\n",
    "    skt = socket.socket(socket.AF_INET, socket.SOCK_STREAM)\n",
    "    skt.connect(bob_addr)\n",
    "    \n",
    "    shared_key, log = exchange_msg(g,skt,'ALICE')\n",
    "\n",
    "    lock.acquire()\n",
    "    print(*log,sep='\\n')\n",
    "    lock.release()\n",
    "    skt.close()\n",
    "    q.put(shared_key)\n",
    "    \n",
    "def bob(g, bob_addr,lock,q):    \n",
    "    wlc_socket = socket.socket(socket.AF_INET, socket.SOCK_STREAM)\n",
    "    wlc_socket.bind(bob_addr)\n",
    "    wlc_socket.listen(0)\n",
    "    skt, _ = wlc_socket.accept()\n",
    "    \n",
    "    shared_key, log = exchange_msg(g,skt,'BOB')\n",
    "    \n",
    "    lock.acquire()\n",
    "    print(*log,sep='\\n')\n",
    "    lock.release()\n",
    "    skt.close()\n",
    "    q.put(shared_key)\n",
    "    \n",
    "\n",
    "def ecdh_scheme(p,a,b,g):\n",
    "    port = random.randint(1024,65535)\n",
    "    bob_addr = ('127.0.0.1',port)\n",
    "    \n",
    "    print(\"----- ECDH -----\")\n",
    "    print(f\"p:{p}\\nG:{(g.x.value,g.y.value)}\\nEC: y²=x³+{a.value}x+{b.value}\")\n",
    "    print(\"----------------\\n\")\n",
    "    \n",
    "    q = queue.Queue()\n",
    "    lock = Lock()\n",
    "    bob_thread = Thread(target=bob,args=(g,bob_addr,lock,q))\n",
    "    bob_thread.start()\n",
    "    time.sleep(0.1)\n",
    "    alice_thread = Thread(target=alice, args=(g,bob_addr,lock,q))\n",
    "    alice_thread.start()\n",
    "    \n",
    "    sh_k1 = q.get()\n",
    "    sh_k2 = q.get()\n",
    "    if sh_k1 == sh_k2:\n",
    "        print(f\"\\nLa clave compartida fue generada exitosamente. Esta es: {sh_k1}\")\n",
    "    else:\n",
    "        print(\"\\nError. Las claves no coinciden.\")\n",
    "    \n",
    "    bob_thread.join()\n",
    "    alice_thread.join()"
   ]
  },
  {
   "cell_type": "code",
   "execution_count": 40,
   "id": "84b7a0e6-2b08-44cc-a7f1-2fcb52b3dd23",
   "metadata": {
    "tags": []
   },
   "outputs": [
    {
     "name": "stdout",
     "output_type": "stream",
     "text": [
      "----- ECDH -----\n",
      "p:43\n",
      "G:(13, 15)\n",
      "EC: y²=x³+0x+6\n",
      "----------------\n",
      "\n",
      "[BOB] The order of the group is: 13\n",
      "[BOB] My SK: 7\n",
      "[BOB] My PK: (27,9)\n",
      "[BOB] PK received: (26,9)\n",
      "[BOB] The obtained key is: (35, 28), but only X component: 35 will be used\n",
      "\n",
      "[ALICE] The order of the group is: 13\n",
      "[ALICE] My SK: 8\n",
      "[ALICE] My PK: (26,9)\n",
      "[ALICE] PK received: (27,9)\n",
      "[ALICE] The obtained key is: (35, 28), but only X component: 35 will be used\n",
      "\n",
      "\n",
      "La clave compartida fue generada exitosamente. Esta es: 35\n"
     ]
    }
   ],
   "source": [
    "# parametros conocidos\n",
    "p=43\n",
    "a=FinitFieldElement(0,p)\n",
    "b=FinitFieldElement(6,p)\n",
    "x=FinitFieldElement(13,p)\n",
    "y=FinitFieldElement(15,p)\n",
    "g = EllipticCurveElement(x,y,a,b)\n",
    "\n",
    "ecdh_scheme(p,a,b,g)"
   ]
  },
  {
   "cell_type": "markdown",
   "id": "a0ce650d-ba1e-4196-8c48-01bfd738a6fe",
   "metadata": {},
   "source": [
    "Ahora vamos a probar utilizando $g=(9,2)$"
   ]
  },
  {
   "cell_type": "code",
   "execution_count": 42,
   "id": "6a1db3a8-7a20-4431-9648-46de1aaab2d9",
   "metadata": {
    "tags": []
   },
   "outputs": [
    {
     "name": "stdout",
     "output_type": "stream",
     "text": [
      "----- ECDH -----\n",
      "p:43\n",
      "G:(9, 2)\n",
      "EC: y²=x³+0x+6\n",
      "----------------\n",
      "\n",
      "[BOB] The order of the group is: 39\n",
      "[BOB] My SK: 11\n",
      "[BOB] My PK: (10,24)\n",
      "[BOB] PK received: (2,10)\n",
      "[BOB] The obtained key is: (14, 16), but only X component: 14 will be used\n",
      "\n",
      "[ALICE] The order of the group is: 39\n",
      "[ALICE] My SK: 4\n",
      "[ALICE] My PK: (2,10)\n",
      "[ALICE] PK received: (10,24)\n",
      "[ALICE] The obtained key is: (14, 16), but only X component: 14 will be used\n",
      "\n",
      "\n",
      "La clave compartida fue generada exitosamente. Esta es: 14\n"
     ]
    }
   ],
   "source": [
    "# parametros conocidos\n",
    "x=FinitFieldElement(9,p)\n",
    "y=FinitFieldElement(2,p)\n",
    "g=EllipticCurveElement(x,y,a,b)\n",
    "\n",
    "ecdh_scheme(p,a,b,g)"
   ]
  },
  {
   "cell_type": "markdown",
   "id": "a603ca74-02ec-4f9d-8cdd-f5b3724b04eb",
   "metadata": {},
   "source": [
    "---\n",
    "---"
   ]
  },
  {
   "cell_type": "code",
   "execution_count": 82,
   "id": "d7710346-a28b-4920-9769-13fc3adec8cf",
   "metadata": {
    "collapsed": true,
    "jupyter": {
     "outputs_hidden": true
    },
    "tags": []
   },
   "outputs": [
    {
     "name": "stdout",
     "output_type": "stream",
     "text": [
      "0 - infinito\n",
      "1 - (13,15)\n",
      "2 - (33,34)\n",
      "3 - (38,15)\n",
      "4 - (35,28)\n",
      "5 - (26,34)\n",
      "6 - (27,34)\n",
      "7 - (27,9)\n",
      "8 - (26,9)\n",
      "9 - (35,15)\n",
      "10 - (38,28)\n",
      "11 - (33,9)\n",
      "12 - (13,28)\n",
      "13 - infinito\n"
     ]
    }
   ],
   "source": [
    "#generar grupo\n",
    "\n",
    "n_order = g.get_group_order()\n",
    "for i in range(n_order+1):\n",
    "    res = i*g\n",
    "    if res.x == None and res.y == None:\n",
    "        print(f\"{i} - infinito\")\n",
    "    else:\n",
    "        print(f\"{i} - ({res.x.value},{res.y.value})\")"
   ]
  },
  {
   "cell_type": "code",
   "execution_count": 72,
   "id": "1da47e01-4794-40bf-b0e0-894d8a5b772a",
   "metadata": {
    "tags": []
   },
   "outputs": [
    {
     "name": "stdout",
     "output_type": "stream",
     "text": [
      "Listo: (None,None) - k 36 - prev: (0,1)\n"
     ]
    },
    {
     "data": {
      "text/plain": [
       "36"
      ]
     },
     "execution_count": 72,
     "metadata": {},
     "output_type": "execute_result"
    }
   ],
   "source": [
    "# obtener orden grupo + ultimo elemento\n",
    "\n",
    "x=FinitFieldElement(0,73)\n",
    "y=FinitFieldElement(72,73)\n",
    "a=FinitFieldElement(1,73)\n",
    "b=FinitFieldElement(1,73)\n",
    "point=EllipticCurveElement(x,y,a,b)\n",
    "\n",
    "result=point\n",
    "res_prev=point\n",
    "k=1\n",
    "while result.x != None or result.y != None:\n",
    "    res_prev=result\n",
    "    result += point\n",
    "    k+=1\n",
    "    \n",
    "print(f\"Listo: ({result.x},{result.y}) - k {k} - prev: ({res_prev.x.value},{res_prev.y.value})\")\n",
    "point.get_group_order()"
   ]
  },
  {
   "cell_type": "code",
   "execution_count": 10,
   "id": "1e5318df-b7d1-4261-ad52-7ac1d2446885",
   "metadata": {
    "tags": []
   },
   "outputs": [
    {
     "data": {
      "text/plain": [
       "966"
      ]
     },
     "execution_count": 10,
     "metadata": {},
     "output_type": "execute_result"
    }
   ],
   "source": [
    "# Orden grupo\n",
    "p=1021\n",
    "a=FinitFieldElement(905,p)\n",
    "b=FinitFieldElement(100,p)\n",
    "x=FinitFieldElement(1006,p)\n",
    "y=FinitFieldElement(416,p)\n",
    "g = EllipticCurveElement(x,y,a,b)\n",
    "g.get_group_order()"
   ]
  }
 ],
 "metadata": {
  "kernelspec": {
   "display_name": "Python 3 (ipykernel)",
   "language": "python",
   "name": "python3"
  },
  "language_info": {
   "codemirror_mode": {
    "name": "ipython",
    "version": 3
   },
   "file_extension": ".py",
   "mimetype": "text/x-python",
   "name": "python",
   "nbconvert_exporter": "python",
   "pygments_lexer": "ipython3",
   "version": "3.8.10"
  }
 },
 "nbformat": 4,
 "nbformat_minor": 5
}
